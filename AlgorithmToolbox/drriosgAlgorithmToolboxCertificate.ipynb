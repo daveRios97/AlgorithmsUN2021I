{
  "nbformat": 4,
  "nbformat_minor": 0,
  "metadata": {
    "colab": {
      "name": "drriosgAlgorithmToolboxCertificate.ipynb",
      "provenance": [],
      "collapsed_sections": []
    },
    "kernelspec": {
      "name": "python3",
      "display_name": "Python 3"
    },
    "language_info": {
      "name": "python"
    }
  },
  "cells": [
    {
      "cell_type": "markdown",
      "metadata": {
        "id": "cohDDmF-Y5JY"
      },
      "source": [
        "#**Algorithm Toolbox Certificate**"
      ]
    },
    {
      "cell_type": "markdown",
      "metadata": {
        "id": "LL_P7Aw0Y7mt"
      },
      "source": [
        "##**Coursera Certificate**\n"
      ]
    },
    {
      "cell_type": "markdown",
      "metadata": {
        "id": "1Tar3ZDpZAcQ"
      },
      "source": [
        "<img src='https://raw.githubusercontent.com/drriosg/AlgorithmsUN2021I/master/AlgorithmToolbox/drriosgAlgorithmToolboxCourseraCertificate.PNG'>"
      ]
    },
    {
      "cell_type": "markdown",
      "metadata": {
        "id": "BAnafKs1ZOAA"
      },
      "source": [
        "##**LinkedIn Certificate**\n",
        "\n",
        "https://www.linkedin.com/in/david-rios-956119205"
      ]
    },
    {
      "cell_type": "markdown",
      "metadata": {
        "id": "DX8FoFzPZqSP"
      },
      "source": [
        "<img src='https://raw.githubusercontent.com/drriosg/AlgorithmsUN2021I/master/AlgorithmToolbox/drriosgAlgorithmToolboxLinkedInCertificate.PNG'>"
      ]
    }
  ]
}