{
  "nbformat": 4,
  "nbformat_minor": 0,
  "metadata": {
    "colab": {
      "name": "drriosgAlgorithmicToolboxWeek2.ipynb",
      "provenance": [],
      "collapsed_sections": []
    },
    "kernelspec": {
      "name": "python3",
      "display_name": "Python 3"
    },
    "language_info": {
      "name": "python"
    }
  },
  "cells": [
    {
      "cell_type": "markdown",
      "metadata": {
        "id": "Z8vn8u8RiW53"
      },
      "source": [
        "## **Fibonacci Number**\n",
        "\n",
        "Python"
      ]
    },
    {
      "cell_type": "code",
      "metadata": {
        "id": "OXp__5hU3079"
      },
      "source": [
        "def fibonacci_fast (n):\n",
        "  list = []\n",
        "  for i in range(n+1):\n",
        "    if i <= 1:\n",
        "      list.append(i)\n",
        "    else:\n",
        "      x = list[i-1]+list[i-2]\n",
        "      list.append(x)\n",
        "  return list[n]"
      ],
      "execution_count": 144,
      "outputs": []
    },
    {
      "cell_type": "code",
      "metadata": {
        "colab": {
          "base_uri": "https://localhost:8080/"
        },
        "id": "DDf6_yfOkxZI",
        "outputId": "37d649bf-90f8-4632-c8b5-b126e89fc1a9"
      },
      "source": [
        "print(fibonacci_fast(100))"
      ],
      "execution_count": 145,
      "outputs": [
        {
          "output_type": "stream",
          "text": [
            "354224848179261915075\n"
          ],
          "name": "stdout"
        }
      ]
    },
    {
      "cell_type": "markdown",
      "metadata": {
        "id": "lKmmUoqezABf"
      },
      "source": [
        "## **Last Digit of a Large Fibonacci Number**\n",
        "\n",
        "C++"
      ]
    },
    {
      "cell_type": "code",
      "metadata": {
        "colab": {
          "base_uri": "https://localhost:8080/"
        },
        "id": "QTS6OGM7zCK6",
        "outputId": "294bed44-b94c-4dbb-9c53-2ebfd4301e4f"
      },
      "source": [
        "%%writefile exercise2.cpp\n",
        "#include <iostream>\n",
        "#include <cstdlib>\n",
        "#include <vector>\n",
        "\n",
        "using namespace std;\n",
        "\n",
        "int fibonacci(int n)\n",
        "{\n",
        "    if(n <= 1)\n",
        "        return n;\n",
        "    int sum = 0;\n",
        "    vector<int> array(n + 1);\n",
        "    array[0] = 0;\n",
        "    array[1] = 1;\n",
        "    for (size_t i = 2; i < n + 1; i++)\n",
        "    {\n",
        "        sum = (array[i - 2] + array[i - 1]) % 10;\n",
        "        array[i] = sum;\n",
        "    }  \n",
        "    return sum;\n",
        "}\n",
        "\n",
        "int main()\n",
        "{\n",
        "    int n;\n",
        "    cin >> n;\n",
        "    cout << fibonacci(n) << \"\\n\";\n",
        "    return 0;\n",
        "}"
      ],
      "execution_count": 146,
      "outputs": [
        {
          "output_type": "stream",
          "text": [
            "Writing exercise2.cpp\n"
          ],
          "name": "stdout"
        }
      ]
    },
    {
      "cell_type": "code",
      "metadata": {
        "colab": {
          "base_uri": "https://localhost:8080/"
        },
        "id": "5FVa4Ve0zT2W",
        "outputId": "7e46e4d2-ce48-4cab-c4a3-33aa638cf9fd"
      },
      "source": [
        "!g++ exercise2.cpp -o exercise2\n",
        "!./exercise2"
      ],
      "execution_count": 147,
      "outputs": [
        {
          "output_type": "stream",
          "text": [
            "327305\n",
            "5\n"
          ],
          "name": "stdout"
        }
      ]
    },
    {
      "cell_type": "markdown",
      "metadata": {
        "id": "iO2j72E8znMn"
      },
      "source": [
        "## **Greatest Common Divisor**\n",
        "\n",
        "Python"
      ]
    },
    {
      "cell_type": "code",
      "metadata": {
        "id": "OkOMOQvmzwfN"
      },
      "source": [
        "def euclidMCD (a,b):\n",
        "  if b == 0:\n",
        "    return a\n",
        "  else:\n",
        "    x = int(a%b)\n",
        "    return euclidMCD(b,x)"
      ],
      "execution_count": 148,
      "outputs": []
    },
    {
      "cell_type": "code",
      "metadata": {
        "colab": {
          "base_uri": "https://localhost:8080/"
        },
        "id": "l1_KrtOVz9Jm",
        "outputId": "f5b63574-9041-4ecf-9d05-b04d86ada158"
      },
      "source": [
        "print(euclidMCD(28851538,1183019))"
      ],
      "execution_count": 149,
      "outputs": [
        {
          "output_type": "stream",
          "text": [
            "17657\n"
          ],
          "name": "stdout"
        }
      ]
    },
    {
      "cell_type": "markdown",
      "metadata": {
        "id": "_uZjkjKZ0Wym"
      },
      "source": [
        "## **Least Common Multiple**\n",
        "\n",
        "C++"
      ]
    },
    {
      "cell_type": "code",
      "metadata": {
        "colab": {
          "base_uri": "https://localhost:8080/"
        },
        "id": "Mbrv1GVi0ZeS",
        "outputId": "94d90feb-b200-40b1-bbc1-78cfd7caed55"
      },
      "source": [
        "%%writefile exercise4.cpp\n",
        "#include <iostream>\n",
        "#include <cstdlib>\n",
        "\n",
        "//TODO: Implmente the 5th exercise on fibonacci numbers.\n",
        "\n",
        "using namespace std;\n",
        "\n",
        "int euclidian_mcd(int a, int b)\n",
        "{\n",
        "    if (b == 0)\n",
        "    {\n",
        "        return a;\n",
        "    }\n",
        "    int a_prime = a % b;\n",
        "    return euclidian_mcd(b, a_prime);\n",
        "}\n",
        "\n",
        "long long least_common_multiple(int a, int b)\n",
        "{\n",
        "    int mcd = euclidian_mcd(a, b);\n",
        "    int first = a / mcd;\n",
        "    int second = b / mcd;\n",
        "    return (long long) first * second * mcd;\n",
        "}\n",
        "\n",
        "int main()\n",
        "{\n",
        "    int a, b;\n",
        "    cin >> a >> b;\n",
        "    cout << least_common_multiple(a, b) << \"\\n\";\n",
        "    return 0;\n",
        "}"
      ],
      "execution_count": 150,
      "outputs": [
        {
          "output_type": "stream",
          "text": [
            "Writing exercise4.cpp\n"
          ],
          "name": "stdout"
        }
      ]
    },
    {
      "cell_type": "code",
      "metadata": {
        "colab": {
          "base_uri": "https://localhost:8080/"
        },
        "id": "8V8hR4nM0jTX",
        "outputId": "359469b7-67cb-410e-eef7-824eab60a599"
      },
      "source": [
        "!g++ exercise4.cpp -o exercise4\n",
        "!./exercise4"
      ],
      "execution_count": 151,
      "outputs": [
        {
          "output_type": "stream",
          "text": [
            "761457 614573\n",
            "467970912861\n"
          ],
          "name": "stdout"
        }
      ]
    },
    {
      "cell_type": "markdown",
      "metadata": {
        "id": "GsWbcCsp0sYw"
      },
      "source": [
        "## **Fibonacci Number Again**\n",
        "\n",
        "C++"
      ]
    },
    {
      "cell_type": "code",
      "metadata": {
        "colab": {
          "base_uri": "https://localhost:8080/"
        },
        "id": "RkA_McQf0wnT",
        "outputId": "fc059088-54f1-4755-c007-e44c6b21a568"
      },
      "source": [
        "%%writefile exercise5.cpp\n",
        "#include <iostream>\n",
        "#include <cstdlib>\n",
        "#include <vector>\n",
        "\n",
        "using namespace std;\n",
        "\n",
        "long long get_pisano_period(long long m) \n",
        "{\n",
        "    long long n_minus_2 = 0, n_minus_1 = 1, n = n_minus_2 + n_minus_1;\n",
        "    for (long long i = 0; i < m * m; i++) \n",
        "    {\n",
        "        n = (n_minus_2 + n_minus_1) % m;\n",
        "        n_minus_2 = n_minus_1;\n",
        "        n_minus_1 = n; //This 3 lines are fibonacci\n",
        "        if (n_minus_2 == 0 && n_minus_1 == 1) \n",
        "            return i + 1;\n",
        "        \n",
        "    }\n",
        "    return 1;\n",
        "}\n",
        "\n",
        "unsigned long long fibonacci_naive_modulo(long long n, long long m)\n",
        "{\n",
        "    if(n <= 1)\n",
        "        return n;\n",
        "\n",
        "    unsigned long long sum = 0;\n",
        "    unsigned long long n_minus_2 = 0;\n",
        "    unsigned long long n_minus_1 = 1;\n",
        "    //cout << array[0] << \" \" << array[1] << \" \";\n",
        "    for (long i = 2; i < n + 1; i++)\n",
        "    {\n",
        "        sum = (unsigned long long)(n_minus_2 + n_minus_1) % m;\n",
        "        n_minus_2 = n_minus_1;\n",
        "        n_minus_1 = sum;\n",
        "    } \n",
        "    //cout << \"\\n\";\n",
        "    return sum;\n",
        "}\n",
        "\n",
        "long long fibonacci_modulo(long long n, long long m)\n",
        "{\n",
        "    //Fn mod m\n",
        "    if(n <= 1)\n",
        "        return n;\n",
        "    unsigned long long period_length = get_pisano_period(m);\n",
        "    unsigned long long smaller_n = (unsigned long long) n % period_length;\n",
        "    unsigned long long modulo = (unsigned long long) fibonacci_naive_modulo(smaller_n, m);\n",
        "    return modulo;\n",
        "}\n",
        "\n",
        "int main()\n",
        "{\n",
        "    long long n, m;\n",
        "    cin >> n >> m;\n",
        "    cout << fibonacci_modulo(n, m) << \"\\n\";\n",
        "    return 0;\n",
        "}"
      ],
      "execution_count": 152,
      "outputs": [
        {
          "output_type": "stream",
          "text": [
            "Writing exercise5.cpp\n"
          ],
          "name": "stdout"
        }
      ]
    },
    {
      "cell_type": "code",
      "metadata": {
        "colab": {
          "base_uri": "https://localhost:8080/"
        },
        "id": "3NQmCIfh04bu",
        "outputId": "2fbfd448-1f0b-435f-f2f4-38a6b2b36d58"
      },
      "source": [
        "!g++ exercise5.cpp -o exercise5\n",
        "!./exercise5"
      ],
      "execution_count": 153,
      "outputs": [
        {
          "output_type": "stream",
          "text": [
            "2816213588 239\n",
            "151\n"
          ],
          "name": "stdout"
        }
      ]
    },
    {
      "cell_type": "markdown",
      "metadata": {
        "id": "kxpgoMjR2OD3"
      },
      "source": [
        "## **Coursera Submissions**"
      ]
    },
    {
      "cell_type": "markdown",
      "metadata": {
        "id": "q7JaGAS92Fch"
      },
      "source": [
        "<img src=\"https://raw.githubusercontent.com/drriosg/AlgorithmsUN2021I/master/Lab8/drriosgAlgorithmicToolboxWeek2.JPG\">"
      ]
    },
    {
      "cell_type": "code",
      "metadata": {
        "id": "40mn635d2M5c"
      },
      "source": [
        ""
      ],
      "execution_count": null,
      "outputs": []
    }
  ]
}